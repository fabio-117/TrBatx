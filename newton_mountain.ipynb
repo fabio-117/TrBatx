{
 "cells": [
  {
   "cell_type": "code",
   "execution_count": 6,
   "id": "52f67346",
   "metadata": {},
   "outputs": [],
   "source": [
    "import mayavi.mlab\n",
    "import numpy as np\n",
    "np.bool = np.bool_\n",
    "import matplotlib.pyplot as plt\n",
    "import scipy.ndimage\n",
    "from matplotlib import colormaps\n",
    "from matplotlib import cm\n",
    "from matplotlib import colors"
   ]
  },
  {
   "cell_type": "code",
   "execution_count": 8,
   "id": "fdb881c4",
   "metadata": {},
   "outputs": [],
   "source": [
    "# Com a punt de partida, definim una funció com a newton_fractal(). Aquesta funció tindrà els paràmetres següents:\n",
    "# f = funció\n",
    "# df = derivada de la funció f\n",
    "# z0 = nombre complex arbitrari que s'apropi a un zero de f. Un zero és un anàleg a un punt de tall en el pla (x, y), però en els complexos.\n",
    "# ite = nombre d'iteracions\n",
    "def newton_fractal(f,df,z0,ite):\n",
    "    # tol = La tolerància: un petit valor que serveix com a valor límit, és a dir, només agafem els valors que siguin majors a la tolerància.\n",
    "    tol = 1e-8\n",
    "    z=z0\n",
    "    for k in range(ite):\n",
    "        dz = f(z)/df(z)\n",
    "        if abs(dz)<tol:\n",
    "            return k\n",
    "        z = z - 1.25*dz       \n",
    "\n",
    "# Definim la funció f i la seva derivada.\n",
    "f=lambda z : z**(4 + 3j) - 1\n",
    "df=lambda z : (4 + 3j)*z**(3 + 3j)\n",
    "\n",
    "# Valors de la malla.\n",
    "x_min = 0.4\n",
    "x_max = 0.9\n",
    "y_min = -0.9\n",
    "y_max = -0.3\n",
    "\n",
    "# Punts de la malla\n",
    "n_space = 300\n",
    "# Construïm dos eixos de [x_min, x_max]X[y_min, y_max]. També farem una matriu de zeros de dimensió n_space x n_space.\n",
    "x_values=np.linspace(x_min,x_max,n_space)\n",
    "y_values=np.linspace(y_min,y_max,n_space)\n",
    "n=len(x_values)\n",
    "m=len(y_values)\n",
    "# Fem una matriu de zeros de dimensió nxm.\n",
    "a=np.zeros((n,m))\n",
    "\n",
    "# Amb dos bucles for, construïm una malla de nombres complexos 'z' amb els valors 'x' i 'y'. \n",
    "for k in range(n):\n",
    "    for j in range(m):\n",
    "        z=complex(x_values[k],y_values[j])\n",
    "        # Actualitzem la matriu, substituint cada zero pel valor del mòdul de 'z' que retorna la funció newton_fractal(). \n",
    "        # z = tots el nombres complexos.\n",
    "        a[k,j]=newton_fractal(f,df,z,200)\n",
    "        # La matriu s'actualitzarà amb els valors de 'a' obtinguts en cada nova iteració. \n",
    "        pass\n",
    "    pass\n",
    "    \n",
    "# Amb la primera línia farem que mayavi ens doni els resultats en un fons blanc\n",
    "mayavi.mlab.figure(bgcolor=(1, 1, 1))   \n",
    "# Per obtenir més detall, utilitzem les dues línies següents.\n",
    "smoothed_atlas = scipy.ndimage.gaussian_filter(a.T, 2.0)\n",
    "mayavi.mlab.surf(smoothed_atlas, warp_scale=2.5,colormap = 'GnBu')\n",
    "# Mostrar la imatge\n",
    "mayavi.mlab.show()"
   ]
  },
  {
   "cell_type": "code",
   "execution_count": null,
   "id": "8c0c6c7c",
   "metadata": {},
   "outputs": [],
   "source": []
  }
 ],
 "metadata": {
  "kernelspec": {
   "display_name": "Python 3 (ipykernel)",
   "language": "python",
   "name": "python3"
  },
  "language_info": {
   "codemirror_mode": {
    "name": "ipython",
    "version": 3
   },
   "file_extension": ".py",
   "mimetype": "text/x-python",
   "name": "python",
   "nbconvert_exporter": "python",
   "pygments_lexer": "ipython3",
   "version": "3.11.2"
  }
 },
 "nbformat": 4,
 "nbformat_minor": 5
}
