{
 "cells": [
  {
   "cell_type": "code",
   "execution_count": 9,
   "id": "27db5474",
   "metadata": {},
   "outputs": [],
   "source": [
    "import mayavi.mlab\n",
    "import numpy as np\n",
    "np.bool = np.bool_\n",
    "import matplotlib.pyplot as plt\n",
    "import scipy.ndimage\n",
    "from matplotlib import colormaps\n",
    "from matplotlib import cm\n",
    "from matplotlib import colors"
   ]
  },
  {
   "cell_type": "code",
   "execution_count": 10,
   "id": "c5394f45",
   "metadata": {},
   "outputs": [],
   "source": [
    "# Com a punt de partida, definim una funció com a julia(). Aquesta funció tindrà els paràmetres següents:\n",
    "# c = nombre complex especific\n",
    "# z = nombres complexos\n",
    "# ite = nombre d'iteracions\n",
    "def julia(c,z,ite):\n",
    "    for k in range(ite):\n",
    "        z=z*z+c\n",
    "        if abs(z)>2:\n",
    "            break\n",
    "            pass\n",
    "        pass\n",
    "    return k"
   ]
  },
  {
   "cell_type": "code",
   "execution_count": 19,
   "id": "742103d2",
   "metadata": {},
   "outputs": [],
   "source": [
    "# A continuació definim una altra funció, la qual, anomenarem plot_julia3D(). Aquesta funció ens servirà per crear el paisatge 3D.\n",
    "def plot_julia3D(x_min,x_max,y_min,y_max,c,n):\n",
    "    # Construïm dos eixos de [x_min, x_max]X[y_min, y_max]. També farem una matriu de zeros de dimensió nxn.\n",
    "    x=np.linspace(x_min,x_max,n)\n",
    "    y=np.linspace(y_min,y_max,n)\n",
    "    a=np.zeros((n,n))\n",
    "    # Amb dos bucles for, construïm una malla de nombres complexos 'c' amb els valors 'x' i 'y'. \n",
    "    for i in range(n):\n",
    "        for j in range(n):\n",
    "            z=complex(x[i],y[j])\n",
    "            a[i,j]=julia(c,z,40)\n",
    "            #print(a,c)\n",
    "            pass\n",
    "        pass\n",
    "    \n",
    "    # Amb la primera línia farem que mayavi ens doni els resultats en un fons blanc\n",
    "    mayavi.mlab.figure(bgcolor=(1, 1, 1))\n",
    "    # A partir d'aquí tenim dos escenaris diferents:\n",
    "    \n",
    "    #1: Si volem un model predeterminat utilitzem la següent línia.\n",
    "    mayavi.mlab.surf(a.T, warp_scale=2.5,colormap = 'YlGn')\n",
    "    #2: Si la volem amb més detall, utilitzem les dues línies següents i desactivem l'anterior.\n",
    "    #smoothed_atlas = scipy.ndimage.gaussian_filter(a.T, 2)\n",
    "    #mayavi.mlab.surf(smoothed_atlas, warp_scale=1,colormap = 'GnBu')\n",
    "    mayavi.mlab.show()"
   ]
  },
  {
   "cell_type": "code",
   "execution_count": 20,
   "id": "7403ddbf",
   "metadata": {},
   "outputs": [],
   "source": [
    "# Valors de la malla.\n",
    "x_min = -1.5\n",
    "x_max = 1.5\n",
    "y_min = -1.5\n",
    "y_max = 1.5\n",
    "n=500\n",
    "# 1\n",
    "c = complex(0.4,0.4)\n",
    "\n",
    "# # 2\n",
    "#c = complex(0,0.8)\n",
    "\n",
    "# 3\n",
    "#c = complex(0.34,-0.05)\n",
    "\n",
    "# 4\n",
    "#c = complex(0,0.8)\n",
    "\n",
    "#5\n",
    "#c = complex(-0.79,0.15)"
   ]
  },
  {
   "cell_type": "code",
   "execution_count": 21,
   "id": "7b74d1aa",
   "metadata": {},
   "outputs": [],
   "source": [
    "plot_julia3D(x_min,x_max,y_min,y_max,c,n)"
   ]
  },
  {
   "cell_type": "code",
   "execution_count": null,
   "id": "77d7017a",
   "metadata": {},
   "outputs": [],
   "source": []
  },
  {
   "cell_type": "code",
   "execution_count": null,
   "id": "9fb6f636",
   "metadata": {},
   "outputs": [],
   "source": []
  }
 ],
 "metadata": {
  "kernelspec": {
   "display_name": "Python 3 (ipykernel)",
   "language": "python",
   "name": "python3"
  },
  "language_info": {
   "codemirror_mode": {
    "name": "ipython",
    "version": 3
   },
   "file_extension": ".py",
   "mimetype": "text/x-python",
   "name": "python",
   "nbconvert_exporter": "python",
   "pygments_lexer": "ipython3",
   "version": "3.11.2"
  }
 },
 "nbformat": 4,
 "nbformat_minor": 5
}
